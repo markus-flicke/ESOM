{
 "cells": [
  {
   "cell_type": "code",
   "execution_count": 1,
   "metadata": {},
   "outputs": [],
   "source": [
    "import pandas as pd\n",
    "import matplotlib.pyplot as plt\n",
    "from ESOM import ESOM\n",
    "import numpy as np\n",
    "import seaborn as sns"
   ]
  },
  {
   "cell_type": "code",
   "execution_count": 2,
   "metadata": {},
   "outputs": [
    {
     "name": "stdout",
     "output_type": "stream",
     "text": [
      "finished generation 1 of 5 (20)%\n",
      "finished generation 2 of 5 (40)%\n",
      "finished generation 3 of 5 (60)%\n",
      "finished generation 4 of 5 (80)%\n",
      "finished generation 5 of 5 (100)%\n"
     ]
    }
   ],
   "source": [
    "dataAll = pd.read_csv('iris.csv')\n",
    "dataTrain = dataAll.filter([\"sepal_length\", \"sepal_width\", \"petal_length\", \"petal_width\"])\n",
    "\n",
    "def normalise(df):\n",
    "    for col in df.columns:\n",
    "        df[col] -= df[col].min()\n",
    "        df[col] /= df[col].max()\n",
    "    return df\n",
    "\n",
    "normalised = normalise(dataTrain)\n",
    "esom = ESOM(normalised, dataAll['species'], x = 30, y = 50, generations = 5)"
   ]
  },
  {
   "cell_type": "code",
   "execution_count": null,
   "metadata": {},
   "outputs": [],
   "source": []
  }
 ],
 "metadata": {
  "kernelspec": {
   "display_name": "Python 3",
   "language": "python",
   "name": "python3"
  },
  "language_info": {
   "codemirror_mode": {
    "name": "ipython",
    "version": 3
   },
   "file_extension": ".py",
   "mimetype": "text/x-python",
   "name": "python",
   "nbconvert_exporter": "python",
   "pygments_lexer": "ipython3",
   "version": "3.6.5"
  }
 },
 "nbformat": 4,
 "nbformat_minor": 2
}
